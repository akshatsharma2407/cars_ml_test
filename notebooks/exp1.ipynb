{
 "cells": [
  {
   "cell_type": "code",
   "execution_count": 1,
   "id": "3b7cc6de",
   "metadata": {},
   "outputs": [],
   "source": [
    "import pandas as pd \n",
    "import numpy as np\n",
    "from sklearn.preprocessing import StandardScaler\n",
    "from sklearn.model_selection import train_test_split\n",
    "import dagshub\n",
    "import mlflow\n",
    "from sklearn.ensemble import RandomForestRegressor\n",
    "from sklearn.metrics import mean_absolute_error,mean_squared_error"
   ]
  },
  {
   "cell_type": "code",
   "execution_count": 2,
   "id": "5baef0d3",
   "metadata": {},
   "outputs": [],
   "source": [
    "df = pd.read_csv(\"C:/Users/aksha/OneDrive/Desktop/cars_mlops_practice/sample_data.csv\").select_dtypes(include=[int,float,bool])"
   ]
  },
  {
   "cell_type": "code",
   "execution_count": 3,
   "id": "3be744f2",
   "metadata": {},
   "outputs": [],
   "source": [
    "train_data, test_data = train_test_split(df, test_size=0.2, random_state=42)"
   ]
  },
  {
   "cell_type": "code",
   "execution_count": 4,
   "id": "411a8ad0",
   "metadata": {},
   "outputs": [],
   "source": [
    "xtest = test_data.drop(columns=['Price'])\n",
    "ytest = test_data['Price'].copy()"
   ]
  },
  {
   "cell_type": "code",
   "execution_count": 5,
   "id": "d37c33ed",
   "metadata": {},
   "outputs": [],
   "source": [
    "scaler = StandardScaler()\n",
    "scaler.set_output(transform=\"pandas\")\n",
    "scaler.fit(train_data)\n",
    "train_processed_data = scaler.transform(train_data)\n",
    "test_processed_data = scaler.transform(test_data)"
   ]
  },
  {
   "cell_type": "code",
   "execution_count": 6,
   "id": "977686b3",
   "metadata": {},
   "outputs": [],
   "source": [
    "xtrain = train_data.drop(columns=\"Price\").values\n",
    "ytrain = train_data[\"Price\"].values"
   ]
  },
  {
   "cell_type": "code",
   "execution_count": 7,
   "id": "3b035c3e",
   "metadata": {},
   "outputs": [
    {
     "name": "stderr",
     "output_type": "stream",
     "text": [
      "c:\\Users\\aksha\\AppData\\Local\\Programs\\Python\\Python312\\Lib\\site-packages\\sklearn\\utils\\validation.py:2732: UserWarning: X has feature names, but RandomForestRegressor was fitted without feature names\n",
      "  warnings.warn(\n"
     ]
    }
   ],
   "source": [
    "model = RandomForestRegressor()\n",
    "\n",
    "model.fit(xtrain,ytrain)\n",
    "\n",
    "ypred = model.predict(xtest)\n",
    "\n",
    "mae = mean_absolute_error(ytest,ypred)\n",
    "mse = mean_squared_error(ytest,ypred)"
   ]
  },
  {
   "cell_type": "code",
   "execution_count": 8,
   "id": "af0e46de",
   "metadata": {},
   "outputs": [],
   "source": [
    "mlflow.set_tracking_uri('https://dagshub.com/akshatsharma2407/cars_ml_test.mlflow')"
   ]
  },
  {
   "cell_type": "code",
   "execution_count": 9,
   "id": "2838b775",
   "metadata": {},
   "outputs": [
    {
     "data": {
      "text/html": [
       "<pre style=\"white-space:pre;overflow-x:auto;line-height:normal;font-family:Menlo,'DejaVu Sans Mono',consolas,'Courier New',monospace\">Accessing as akshatsharma2407\n",
       "</pre>\n"
      ],
      "text/plain": [
       "Accessing as akshatsharma2407\n"
      ]
     },
     "metadata": {},
     "output_type": "display_data"
    },
    {
     "data": {
      "text/html": [
       "<pre style=\"white-space:pre;overflow-x:auto;line-height:normal;font-family:Menlo,'DejaVu Sans Mono',consolas,'Courier New',monospace\">Initialized MLflow to track repo <span style=\"color: #008000; text-decoration-color: #008000\">\"akshatsharma2407/cars_ml_test\"</span>\n",
       "</pre>\n"
      ],
      "text/plain": [
       "Initialized MLflow to track repo \u001b[32m\"akshatsharma2407/cars_ml_test\"\u001b[0m\n"
      ]
     },
     "metadata": {},
     "output_type": "display_data"
    },
    {
     "data": {
      "text/html": [
       "<pre style=\"white-space:pre;overflow-x:auto;line-height:normal;font-family:Menlo,'DejaVu Sans Mono',consolas,'Courier New',monospace\">Repository akshatsharma2407/cars_ml_test initialized!\n",
       "</pre>\n"
      ],
      "text/plain": [
       "Repository akshatsharma2407/cars_ml_test initialized!\n"
      ]
     },
     "metadata": {},
     "output_type": "display_data"
    }
   ],
   "source": [
    "dagshub.init(repo_owner='akshatsharma2407', repo_name='cars_ml_test', mlflow=True)"
   ]
  },
  {
   "cell_type": "code",
   "execution_count": 22,
   "id": "4410d519",
   "metadata": {},
   "outputs": [
    {
     "data": {
      "text/plain": [
       "{'bootstrap': True,\n",
       " 'ccp_alpha': 0.0,\n",
       " 'criterion': 'squared_error',\n",
       " 'max_depth': None,\n",
       " 'max_features': 1.0,\n",
       " 'max_leaf_nodes': None,\n",
       " 'max_samples': None,\n",
       " 'min_impurity_decrease': 0.0,\n",
       " 'min_samples_leaf': 1,\n",
       " 'min_samples_split': 2,\n",
       " 'min_weight_fraction_leaf': 0.0,\n",
       " 'monotonic_cst': None,\n",
       " 'n_estimators': 100,\n",
       " 'n_jobs': None,\n",
       " 'oob_score': False,\n",
       " 'random_state': None,\n",
       " 'verbose': 0,\n",
       " 'warm_start': False}"
      ]
     },
     "execution_count": 22,
     "metadata": {},
     "output_type": "execute_result"
    }
   ],
   "source": [
    "model.get_params()"
   ]
  },
  {
   "cell_type": "code",
   "execution_count": null,
   "id": "70db99b9",
   "metadata": {},
   "outputs": [
    {
     "name": "stderr",
     "output_type": "stream",
     "text": [
      "c:\\Users\\aksha\\AppData\\Local\\Programs\\Python\\Python312\\Lib\\site-packages\\sklearn\\utils\\validation.py:2732: UserWarning: X has feature names, but RandomForestRegressor was fitted without feature names\n",
      "  warnings.warn(\n",
      "c:\\Users\\aksha\\AppData\\Local\\Programs\\Python\\Python312\\Lib\\site-packages\\mlflow\\types\\utils.py:452: UserWarning: Hint: Inferred schema contains integer column(s). Integer columns in Python cannot represent missing values. If your input data contains missing values at inference time, it will be encoded as floats and will cause a schema enforcement error. The best way to avoid this problem is to infer the model schema based on a realistic data sample (training dataset) that includes missing values. Alternatively, you can declare integer columns as doubles (float64) whenever these columns may have missing values. See `Handling Integers With Missing Values <https://www.mlflow.org/docs/latest/models.html#handling-integers-with-missing-values>`_ for more details.\n",
      "  warnings.warn(\n"
     ]
    }
   ],
   "source": [
    "mlflow.set_experiment('first exp')\n",
    "with mlflow.start_run(run_name='first run'):\n",
    "    signature = mlflow.models.infer_signature(model_input=xtest,model_output=model.predict(xtest))\n",
    "    mlflow.log_params(model.get_params())\n",
    "    mlflow.log_metric('mae',mae)\n",
    "    mlflow.log_metric('mse',mse)\n",
    "    mlflow.sklearn.log_model(model,'model', signature=signature)"
   ]
  },
  {
   "cell_type": "code",
   "execution_count": 10,
   "id": "032027e6",
   "metadata": {},
   "outputs": [
    {
     "data": {
      "text/plain": [
       "{'bootstrap': True,\n",
       " 'ccp_alpha': 0.0,\n",
       " 'criterion': 'squared_error',\n",
       " 'max_depth': None,\n",
       " 'max_features': 1.0,\n",
       " 'max_leaf_nodes': None,\n",
       " 'max_samples': None,\n",
       " 'min_impurity_decrease': 0.0,\n",
       " 'min_samples_leaf': 1,\n",
       " 'min_samples_split': 2,\n",
       " 'min_weight_fraction_leaf': 0.0,\n",
       " 'monotonic_cst': None,\n",
       " 'n_estimators': 100,\n",
       " 'n_jobs': None,\n",
       " 'oob_score': False,\n",
       " 'random_state': None,\n",
       " 'verbose': 0,\n",
       " 'warm_start': False}"
      ]
     },
     "execution_count": 10,
     "metadata": {},
     "output_type": "execute_result"
    }
   ],
   "source": [
    "model.get_params()"
   ]
  },
  {
   "cell_type": "code",
   "execution_count": 22,
   "id": "477f6a27",
   "metadata": {},
   "outputs": [
    {
     "name": "stderr",
     "output_type": "stream",
     "text": [
      "2025/10/26 14:37:33 INFO mlflow.sklearn.utils: Logging the 5 best runs, one run will be omitted.\n"
     ]
    },
    {
     "name": "stdout",
     "output_type": "stream",
     "text": [
      "🏃 View run outer at: https://dagshub.com/akshatsharma2407/cars_ml_test.mlflow/#/experiments/2/runs/58c13b96abc24396b01875b5261f34d1\n",
      "🧪 View experiment at: https://dagshub.com/akshatsharma2407/cars_ml_test.mlflow/#/experiments/2\n",
      "🏃 View run best model at: https://dagshub.com/akshatsharma2407/cars_ml_test.mlflow/#/experiments/2/runs/50d231d369e849d5aef26061aec33521\n",
      "🧪 View experiment at: https://dagshub.com/akshatsharma2407/cars_ml_test.mlflow/#/experiments/2\n"
     ]
    }
   ],
   "source": [
    "from sklearn.model_selection import GridSearchCV\n",
    "\n",
    "mlflow.set_experiment('grid search cv')\n",
    "\n",
    "mlflow.sklearn.autolog()\n",
    "\n",
    "params_grid = {\n",
    "    'n_estimators' : [20,30],\n",
    "    'max_depth' : [2,3,4]\n",
    "}\n",
    "\n",
    "with mlflow.start_run(run_name='outer',nested=True) as parent:\n",
    "    grid_search = GridSearchCV(estimator=RandomForestRegressor(),param_grid=params_grid, cv=2)\n",
    "    grid_search.fit(xtrain,ytrain)\n",
    "\n",
    "with mlflow.start_run(run_name='best model') as best:\n",
    "    signature = mlflow.models.infer_signature(model_input=xtrain, model_output=grid_search.best_estimator_.predict(xtrain))\n",
    "    mlflow.log_params(grid_search.best_params_)\n",
    "    mlflow.log_metric(\"best_score\",grid_search.best_score_)\n",
    "    mlflow.sklearn.log_model(grid_search.best_estimator_, 'model', signature=signature)"
   ]
  },
  {
   "cell_type": "code",
   "execution_count": null,
   "id": "28bcdf6b",
   "metadata": {},
   "outputs": [],
   "source": []
  }
 ],
 "metadata": {
  "kernelspec": {
   "display_name": "Python 3",
   "language": "python",
   "name": "python3"
  },
  "language_info": {
   "codemirror_mode": {
    "name": "ipython",
    "version": 3
   },
   "file_extension": ".py",
   "mimetype": "text/x-python",
   "name": "python",
   "nbconvert_exporter": "python",
   "pygments_lexer": "ipython3",
   "version": "3.12.2"
  }
 },
 "nbformat": 4,
 "nbformat_minor": 5
}
